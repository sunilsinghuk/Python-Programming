{
  "nbformat": 4,
  "nbformat_minor": 0,
  "metadata": {
    "colab": {
      "provenance": [],
      "authorship_tag": "ABX9TyOb/mZuPo/o7sCi+t1y0dli",
      "include_colab_link": true
    },
    "kernelspec": {
      "name": "python3",
      "display_name": "Python 3"
    },
    "language_info": {
      "name": "python"
    }
  },
  "cells": [
    {
      "cell_type": "markdown",
      "metadata": {
        "id": "view-in-github",
        "colab_type": "text"
      },
      "source": [
        "<a href=\"https://colab.research.google.com/github/sunilsinghuk/Python-Programming/blob/main/2_Control_Flow.ipynb\" target=\"_parent\"><img src=\"https://colab.research.google.com/assets/colab-badge.svg\" alt=\"Open In Colab\"/></a>"
      ]
    },
    {
      "cell_type": "markdown",
      "source": [
        "# **Control Flow in Python**\n",
        "\n",
        "## **Topics to be Covered:**\n",
        "\n",
        "\n",
        "1.   Conditional Statements with if, else and elif\n",
        "2.   Looping with  for and while\n",
        "3.   Defining and Using Functions, Arguments and Return Values\n",
        "\n"
      ],
      "metadata": {
        "id": "76ESjd8xQSw-"
      }
    },
    {
      "cell_type": "markdown",
      "source": [
        "# **Control Flow in Python**\n",
        "***Control flow is how a program decides which parts of code to execute based on conditions and loops.***\n",
        "\n",
        "## **Conditional Statements: if, else, and elif**\n",
        "In Python, conditional statements **help control the flow of the program by making decisions based on certain conditions**.\n",
        "\n",
        "* **if Statement:** Used to check a condition. If the condition is true, the code inside the if block is executed.\n",
        "* **else Statement:** If the condition in the if statement is false, the code inside the else block is executed.\n",
        "* **elif Statement:** Short for \"else if\", it checks another condition if the previous if condition is false.\n",
        "\n",
        "**Syntax:**"
      ],
      "metadata": {
        "id": "LTVtsR2yQ4AE"
      }
    },
    {
      "cell_type": "code",
      "execution_count": null,
      "metadata": {
        "id": "medKn0tmQBtP",
        "outputId": "b303d771-2af3-41a2-c672-c6bcdc015db2",
        "colab": {
          "base_uri": "https://localhost:8080/",
          "height": 110
        }
      },
      "outputs": [
        {
          "output_type": "error",
          "ename": "IndentationError",
          "evalue": "expected an indented block after 'if' statement on line 1 (<ipython-input-1-c02482206805>, line 3)",
          "traceback": [
            "\u001b[0;36m  File \u001b[0;32m\"<ipython-input-1-c02482206805>\"\u001b[0;36m, line \u001b[0;32m3\u001b[0m\n\u001b[0;31m    elif another_condition:\u001b[0m\n\u001b[0m    ^\u001b[0m\n\u001b[0;31mIndentationError\u001b[0m\u001b[0;31m:\u001b[0m expected an indented block after 'if' statement on line 1\n"
          ]
        }
      ],
      "source": [
        "if condition:\n",
        "    # Code to execute if condition is true\n",
        "elif another_condition:\n",
        "    # Code to execute if another_condition is true\n",
        "else:\n",
        "    # Code to execute if all conditions are false"
      ]
    },
    {
      "cell_type": "markdown",
      "source": [
        "**Example:**"
      ],
      "metadata": {
        "id": "qrczYLiZRmwV"
      }
    },
    {
      "cell_type": "code",
      "source": [
        "# Check if a number is positive, negative, or zero\n",
        "number = 5\n",
        "\n",
        "if number > 0:\n",
        "    print(\"The number is positive\")\n",
        "elif number < 0:\n",
        "    print(\"The number is negative\")\n",
        "else:\n",
        "    print(\"The number is zero\")"
      ],
      "metadata": {
        "id": "StlJnrPJRmSO",
        "outputId": "cb80c265-ec69-4f85-c89a-f8782e8d0617",
        "colab": {
          "base_uri": "https://localhost:8080/"
        }
      },
      "execution_count": null,
      "outputs": [
        {
          "output_type": "stream",
          "name": "stdout",
          "text": [
            "The number is positive\n"
          ]
        }
      ]
    },
    {
      "cell_type": "markdown",
      "source": [
        "## **Looping with for and while**\n",
        "Loops are **used to repeat a block of code multiple times.**\n",
        "\n",
        "### **for Loop**\n",
        "A **for loop** is **used to iterate over a sequence (like a list, tuple, string) or a range of numbers.**\n",
        "\n",
        "**Syntax:**"
      ],
      "metadata": {
        "id": "iA6fWfVrSBM-"
      }
    },
    {
      "cell_type": "code",
      "source": [
        "for item in sequence:\n",
        "    # Code to execute for each item in the sequence"
      ],
      "metadata": {
        "id": "HK1Nu-kXST_q",
        "outputId": "6bb5015d-5c81-41b1-de96-2affca9f7084",
        "colab": {
          "base_uri": "https://localhost:8080/",
          "height": 110
        }
      },
      "execution_count": null,
      "outputs": [
        {
          "output_type": "error",
          "ename": "SyntaxError",
          "evalue": "incomplete input (<ipython-input-3-8c09b050fb25>, line 2)",
          "traceback": [
            "\u001b[0;36m  File \u001b[0;32m\"<ipython-input-3-8c09b050fb25>\"\u001b[0;36m, line \u001b[0;32m2\u001b[0m\n\u001b[0;31m    # Code to execute for each item in the sequence\u001b[0m\n\u001b[0m                                                   ^\u001b[0m\n\u001b[0;31mSyntaxError\u001b[0m\u001b[0;31m:\u001b[0m incomplete input\n"
          ]
        }
      ]
    },
    {
      "cell_type": "markdown",
      "source": [
        "**Example:**"
      ],
      "metadata": {
        "id": "mTExuq-hSZdI"
      }
    },
    {
      "cell_type": "code",
      "source": [
        "# Print each character in a string\n",
        "for letter in \"Python\":\n",
        "    print(letter)\n",
        "\n",
        "# Print numbers from 1 to 5\n",
        "for number in range(1, 6): #range initiated from 1 and iterate n+1th term.\n",
        "    print(number)\n"
      ],
      "metadata": {
        "id": "WMHSvC7TSakL"
      },
      "execution_count": null,
      "outputs": []
    },
    {
      "cell_type": "markdown",
      "source": [
        "### **while Loop**\n",
        "A **while loop** **repeats as long as a given condition is true.**\n",
        "\n",
        "**Syntax:**"
      ],
      "metadata": {
        "id": "eaJoe0qhTAW4"
      }
    },
    {
      "cell_type": "code",
      "source": [
        "while condition:\n",
        "    # Code to execute while the condition is true"
      ],
      "metadata": {
        "id": "1TsL0z7XUkjv"
      },
      "execution_count": null,
      "outputs": []
    },
    {
      "cell_type": "markdown",
      "source": [
        "**Example:**"
      ],
      "metadata": {
        "id": "dPDwhPMSUmlJ"
      }
    },
    {
      "cell_type": "code",
      "source": [
        "# Print numbers from 1 to 5\n",
        "counter = 1\n",
        "while counter <= 5:\n",
        "    print(counter)\n",
        "    counter += 1  # Increment counter by 1"
      ],
      "metadata": {
        "id": "o-vzmSTkUsC2"
      },
      "execution_count": null,
      "outputs": []
    },
    {
      "cell_type": "markdown",
      "source": [
        "## **Breaking Out of Loops: break and continue**\n",
        "\n",
        "1.  **break:** Used to exit a loop early.\n",
        "2.  **continue:** Skips the current iteration and moves to the next one.\n",
        "\n",
        "**Example:**"
      ],
      "metadata": {
        "id": "SAjJn07KSyiW"
      }
    },
    {
      "cell_type": "code",
      "source": [
        "# Using break in a loop\n",
        "for number in range(1, 10):\n",
        "    if number == 5:\n",
        "        break  # Exit loop when number is 5\n",
        "    print(number)\n",
        "\n",
        "# Using continue in a loop\n",
        "for number in range(1, 6):\n",
        "    if number == 3:\n",
        "        continue  # Skip when number is 3\n",
        "    print(number)"
      ],
      "metadata": {
        "id": "Ng6ZInPXVCnG"
      },
      "execution_count": null,
      "outputs": []
    },
    {
      "cell_type": "markdown",
      "source": [
        "# **Defining and Using Functions**\n",
        "A **function is a block of reusable code** that performs a **specific task**. Functions help organize code and make it easier to read and maintain.\n",
        "\n",
        "## **Defining a Function**\n",
        "To define a function, use the def keyword followed by the function name and parentheses ().\n",
        "\n",
        "**Syntax:**"
      ],
      "metadata": {
        "id": "Rx3Uu1rTVbiA"
      }
    },
    {
      "cell_type": "code",
      "source": [
        "def function_name():\n",
        "    # Code that the function will execute"
      ],
      "metadata": {
        "id": "sQjo8kPJV0ep"
      },
      "execution_count": null,
      "outputs": []
    },
    {
      "cell_type": "markdown",
      "source": [
        "**Example:**"
      ],
      "metadata": {
        "id": "4PeEDdrGV59R"
      }
    },
    {
      "cell_type": "code",
      "source": [
        "# Defining a simple function to print a message\n",
        "def greet():\n",
        "    print(\"Hello, welcome to Python!\")\n",
        "\n",
        "# Calling the function\n",
        "greet()  # Output: Hello, welcome to Python!\n"
      ],
      "metadata": {
        "id": "sY8cpkHOV5oy"
      },
      "execution_count": null,
      "outputs": []
    },
    {
      "cell_type": "markdown",
      "source": [
        "## **Arguments in Functions**\n",
        "Functions can accept arguments (inputs) to perform operations with different values.\n",
        "\n",
        "**Syntax:**"
      ],
      "metadata": {
        "id": "kK5p6yauWINF"
      }
    },
    {
      "cell_type": "code",
      "source": [
        "def function_name(argument1, argument2):\n",
        "    # Code using the arguments"
      ],
      "metadata": {
        "id": "2tCJlBr1WM8N"
      },
      "execution_count": null,
      "outputs": []
    },
    {
      "cell_type": "markdown",
      "source": [
        "**Example:**"
      ],
      "metadata": {
        "id": "138_FjLzWQSI"
      }
    },
    {
      "cell_type": "code",
      "source": [
        "# Function with arguments\n",
        "def greet(name):\n",
        "    print(\"Hello, \" + name + \"!\")\n",
        "\n",
        "# Calling the function with an argument\n",
        "greet(\"Alice\")  # Output: Hello, Alice!\n"
      ],
      "metadata": {
        "id": "85RbALvDWRpK"
      },
      "execution_count": null,
      "outputs": []
    },
    {
      "cell_type": "markdown",
      "source": [
        "## **Return Values from Functions**\n",
        "Functions can **return** a value using the return keyword. **This allows the function to send a result back to the caller.**\n",
        "\n",
        "**Syntax:**"
      ],
      "metadata": {
        "id": "vYB4FMRDWpMv"
      }
    },
    {
      "cell_type": "code",
      "source": [
        "def function_name():\n",
        "    # Code\n",
        "    return value"
      ],
      "metadata": {
        "id": "9xfgRSA7W9Yg"
      },
      "execution_count": null,
      "outputs": []
    },
    {
      "cell_type": "markdown",
      "source": [
        "**Example:**"
      ],
      "metadata": {
        "id": "zYWXoRDtXMS1"
      }
    },
    {
      "cell_type": "code",
      "source": [
        "# Function that returns the square of a number\n",
        "def square(number):\n",
        "    return number * number\n",
        "\n",
        "# Calling the function and storing the result\n",
        "result = square(4)\n",
        "print(result)  # Output: 16\n"
      ],
      "metadata": {
        "id": "6NcUnlZPXPxf"
      },
      "execution_count": null,
      "outputs": []
    },
    {
      "cell_type": "markdown",
      "source": [
        "## **Multiple Arguments**\n",
        "A function can take multiple arguments.\n",
        "\n",
        "**Example:**"
      ],
      "metadata": {
        "id": "zuEp-ra3YHRU"
      }
    },
    {
      "cell_type": "code",
      "source": [
        "# Function with two arguments\n",
        "def add_numbers(a, b):\n",
        "    return a + b\n",
        "\n",
        "# Calling the function with two arguments\n",
        "result = add_numbers(3, 5)\n",
        "print(result)  # Output: 8\n"
      ],
      "metadata": {
        "id": "Ty6rfoOLYNlu"
      },
      "execution_count": null,
      "outputs": []
    },
    {
      "cell_type": "markdown",
      "source": [
        "## **Default Arguments**\n",
        "You can **provide default values for function arguments**. If **no argument is provided, the default value will be used.**\n",
        "\n",
        "**Example:**"
      ],
      "metadata": {
        "id": "ZWpjRCKhYQaD"
      }
    },
    {
      "cell_type": "code",
      "source": [
        "# Function with a default argument\n",
        "def greet(name=\"Guest\"):\n",
        "    print(\"Hello, \" + name + \"!\")\n",
        "\n",
        "# Calling the function with and without arguments\n",
        "greet(\"Alice\")  # Output: Hello, Alice!\n",
        "greet()         # Output: Hello, Guest!"
      ],
      "metadata": {
        "id": "Sw464-IeYX7_"
      },
      "execution_count": null,
      "outputs": []
    },
    {
      "cell_type": "markdown",
      "source": [
        "# **Summary**\n",
        "\n",
        "1.   **Conditional statements (if, else, elif)** are used to make decisions in code.\n",
        "2.   **Loops (for and while)** are used to repeat code until a condition is met.\n",
        "3.   **Functions** are blocks of reusable code that perform a specific task. You can pass arguments to functions and get results using return values.\n",
        "\n",
        "\n"
      ],
      "metadata": {
        "id": "tX9ox8AjYn1R"
      }
    }
  ]
}