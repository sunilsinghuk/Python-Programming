{
  "nbformat": 4,
  "nbformat_minor": 0,
  "metadata": {
    "colab": {
      "provenance": [],
      "authorship_tag": "ABX9TyMlvlkTK4F69z6JzBH663Mz",
      "include_colab_link": true
    },
    "kernelspec": {
      "name": "python3",
      "display_name": "Python 3"
    },
    "language_info": {
      "name": "python"
    }
  },
  "cells": [
    {
      "cell_type": "markdown",
      "metadata": {
        "id": "view-in-github",
        "colab_type": "text"
      },
      "source": [
        "<a href=\"https://colab.research.google.com/github/sunilsinghuk/Python-Programming/blob/main/4_Pyhton_List.ipynb\" target=\"_parent\"><img src=\"https://colab.research.google.com/assets/colab-badge.svg\" alt=\"Open In Colab\"/></a>"
      ]
    },
    {
      "cell_type": "markdown",
      "source": [
        "# **Python List**\n",
        "\n",
        "### **Topics to be Covered:** Creating list. Accessing elements: indexing, slicing, negative indexing. Modifying  list: adding & removing elements with (append(), extend(), insert(), remove(), pop()). List  methods: sort(), reverse(), index(), count()"
      ],
      "metadata": {
        "id": "R6UwRi_6bYkL"
      }
    },
    {
      "cell_type": "markdown",
      "source": [
        "## **1. Creating a List**\n",
        "A list is a collection of items that are ordered, changeable (mutable), and allow duplicate values. Lists are defined by enclosing the items in square brackets [].\n",
        "\n",
        "**Example:**"
      ],
      "metadata": {
        "id": "JJXqqLtVbmzR"
      }
    },
    {
      "cell_type": "code",
      "source": [
        "# Creating a list of fruits\n",
        "fruits = ['apple', 'banana', 'cherry', 'mango']\n",
        "print(fruits)"
      ],
      "metadata": {
        "id": "YEDXK4oubsSU"
      },
      "execution_count": null,
      "outputs": []
    },
    {
      "cell_type": "markdown",
      "source": [
        "## **2. Accessing Elements: Indexing, Slicing, Negative Indexing**\n",
        "**Indexing:**\n",
        "You can access list elements using their index (position). The index starts at 0.\n",
        "\n",
        "**Example:**"
      ],
      "metadata": {
        "id": "lq5hL3Fbbx20"
      }
    },
    {
      "cell_type": "code",
      "source": [
        "fruits = ['apple', 'banana', 'cherry', 'mango']\n",
        "print(fruits[1])  # Accessing the second item (index 1)"
      ],
      "metadata": {
        "id": "FsR6D7kBb79L"
      },
      "execution_count": null,
      "outputs": []
    },
    {
      "cell_type": "markdown",
      "source": [
        "**Slicing:**\n",
        "You can access a range of items using slicing by specifying the start and end index.\n",
        "\n",
        "**Example:**"
      ],
      "metadata": {
        "id": "QBFWH1MgcG1S"
      }
    },
    {
      "cell_type": "code",
      "source": [
        "fruits = ['apple', 'banana', 'cherry', 'mango']\n",
        "print(fruits[1:3])  # Accessing items from index 1 to 2 (end index is excluded)"
      ],
      "metadata": {
        "id": "lYQoMIpucKat"
      },
      "execution_count": null,
      "outputs": []
    },
    {
      "cell_type": "markdown",
      "source": [
        "**Negative Indexing:**\n",
        "Negative indexing starts from the end of the list. The last item has an index of -1, the second-last -2, and so on.\n",
        "\n",
        "**Example:**"
      ],
      "metadata": {
        "id": "LywfaXhacNxD"
      }
    },
    {
      "cell_type": "code",
      "source": [
        "fruits = ['apple', 'banana', 'cherry', 'mango']\n",
        "print(fruits[-1])  # Accessing the last item"
      ],
      "metadata": {
        "id": "rTe9b4jhcS-f"
      },
      "execution_count": null,
      "outputs": []
    },
    {
      "cell_type": "markdown",
      "source": [
        "## **3. Modifying List: Adding & Removing Elements**\n",
        "**Adding elements:**\n",
        "You can add elements to a list using several methods:\n",
        "\n",
        "* **append():**Adds an item to the end of the list.\n",
        "* **extend():** Adds multiple items (from another list) to the end of the list.\n",
        "* **insert():** Adds an item at a specific position in the list.\n",
        "\n",
        "**Example of append():**"
      ],
      "metadata": {
        "id": "qfq46UFxcXRu"
      }
    },
    {
      "cell_type": "code",
      "source": [
        "fruits = ['apple', 'banana']\n",
        "fruits.append('cherry')  # Add 'cherry' at the end\n",
        "print(fruits)"
      ],
      "metadata": {
        "id": "7Tc-1MmbcnZu"
      },
      "execution_count": null,
      "outputs": []
    },
    {
      "cell_type": "markdown",
      "source": [
        "**Example of extend():**"
      ],
      "metadata": {
        "id": "sPh5OAgrcr1P"
      }
    },
    {
      "cell_type": "code",
      "source": [
        "fruits = ['apple', 'banana']\n",
        "more_fruits = ['cherry', 'mango']\n",
        "fruits.extend(more_fruits)  # Add multiple elements\n",
        "print(fruits)"
      ],
      "metadata": {
        "id": "BqUKRQU-ctSt"
      },
      "execution_count": null,
      "outputs": []
    },
    {
      "cell_type": "markdown",
      "source": [
        "Example of insert():"
      ],
      "metadata": {
        "id": "TyKdupv0cvMv"
      }
    },
    {
      "cell_type": "code",
      "source": [
        "fruits = ['apple', 'banana', 'mango']\n",
        "fruits.insert(1, 'cherry')  # Insert 'cherry' at index 1\n",
        "print(fruits)"
      ],
      "metadata": {
        "id": "QgRemL1rc3RZ"
      },
      "execution_count": null,
      "outputs": []
    },
    {
      "cell_type": "markdown",
      "source": [
        "**Removing elements:**\n",
        "You can remove elements using these methods:\n",
        "\n",
        "* **remove():** Removes the first occurrence of a specified value.\n",
        "* **pop():** Removes the item at a specific index (if no index is given, it removes the last item).\n",
        "\n",
        "**Example of remove():**"
      ],
      "metadata": {
        "id": "VREhRQNfc57g"
      }
    },
    {
      "cell_type": "code",
      "source": [
        "fruits = ['apple', 'banana', 'cherry', 'mango']\n",
        "fruits.remove('banana')  # Remove 'banana'\n",
        "print(fruits)"
      ],
      "metadata": {
        "id": "lHfLTI8LdLTI"
      },
      "execution_count": null,
      "outputs": []
    },
    {
      "cell_type": "markdown",
      "source": [
        "**Example of pop():**"
      ],
      "metadata": {
        "id": "sTjSJB37dOF7"
      }
    },
    {
      "cell_type": "code",
      "source": [
        "fruits = ['apple', 'banana', 'cherry', 'mango']\n",
        "fruits.pop(2)  # Remove the item at index 2 ('cherry')\n",
        "print(fruits)"
      ],
      "metadata": {
        "id": "_DyKMBKldPhi"
      },
      "execution_count": null,
      "outputs": []
    },
    {
      "cell_type": "markdown",
      "source": [
        "## **4. List Methods**\n",
        "Python provides several built-in methods to work with lists.\n",
        "\n",
        "**sort():**\n",
        "Sorts the list in ascending order.\n",
        "\n",
        "**Example:**"
      ],
      "metadata": {
        "id": "a5gdPouUdUZe"
      }
    },
    {
      "cell_type": "code",
      "source": [
        "numbers = [4, 2, 9, 1]\n",
        "numbers.sort()\n",
        "print(numbers)"
      ],
      "metadata": {
        "id": "5I7DPtxYdbst"
      },
      "execution_count": null,
      "outputs": []
    },
    {
      "cell_type": "markdown",
      "source": [
        "**reverse():**\n",
        "Reverses the order of the list.\n",
        "\n",
        "**Example:**"
      ],
      "metadata": {
        "id": "ZPGlZfFNdgl2"
      }
    },
    {
      "cell_type": "code",
      "source": [
        "fruits = ['apple', 'banana', 'cherry']\n",
        "fruits.reverse()\n",
        "print(fruits)"
      ],
      "metadata": {
        "id": "u2t7Pcwydixk"
      },
      "execution_count": null,
      "outputs": []
    },
    {
      "cell_type": "markdown",
      "source": [
        "**index():**\n",
        "Returns the index of the first occurrence of the specified value.\n",
        "\n",
        "**Example:**"
      ],
      "metadata": {
        "id": "N4JWmRIbdndN"
      }
    },
    {
      "cell_type": "code",
      "source": [
        "fruits = ['apple', 'banana', 'cherry']\n",
        "print(fruits.index('banana'))  # Find the index of 'banana'"
      ],
      "metadata": {
        "id": "eeFvFiJXdp4t"
      },
      "execution_count": null,
      "outputs": []
    },
    {
      "cell_type": "markdown",
      "source": [
        "**count():**\n",
        "Returns the number of times a specified value appears in the list.\n",
        "\n",
        "**Example:**"
      ],
      "metadata": {
        "id": "p5B1WxpLdvP-"
      }
    },
    {
      "cell_type": "code",
      "source": [
        "fruits = ['apple', 'banana', 'cherry', 'apple']\n",
        "print(fruits.count('apple'))  # Count occurrences of 'apple'"
      ],
      "metadata": {
        "id": "yOIJZ_0RdyWj"
      },
      "execution_count": null,
      "outputs": []
    },
    {
      "cell_type": "markdown",
      "source": [
        "## **Summary:**\n",
        "* **List:** A collection of items.\n",
        "* **Indexing:** Accessing elements by their position.\n",
        "* **Slicing:** Accessing a range of items.\n",
        "* **Negative Indexing:** Accessing elements from the end of the list.\n",
        "* **Adding Elements:** Using append(), extend(), and insert().\n",
        "* **Removing Elements:** Using remove() and pop().\n",
        "* **List Methods:** Sorting, reversing, finding the index of an item, and counting occurrences."
      ],
      "metadata": {
        "id": "OYL68aZpd1zV"
      }
    }
  ]
}