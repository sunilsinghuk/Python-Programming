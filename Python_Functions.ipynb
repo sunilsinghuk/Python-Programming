{
  "nbformat": 4,
  "nbformat_minor": 0,
  "metadata": {
    "colab": {
      "provenance": [],
      "authorship_tag": "ABX9TyPuWnb1yxhMlBIzsa03WOjl",
      "include_colab_link": true
    },
    "kernelspec": {
      "name": "python3",
      "display_name": "Python 3"
    },
    "language_info": {
      "name": "python"
    }
  },
  "cells": [
    {
      "cell_type": "markdown",
      "metadata": {
        "id": "view-in-github",
        "colab_type": "text"
      },
      "source": [
        "<a href=\"https://colab.research.google.com/github/sunilsinghuk/Python-Programming/blob/main/Python_Functions.ipynb\" target=\"_parent\"><img src=\"https://colab.research.google.com/assets/colab-badge.svg\" alt=\"Open In Colab\"/></a>"
      ]
    },
    {
      "cell_type": "markdown",
      "source": [
        "# **Understanding Functions**\n",
        "A function in Python is a **block of reusable code that performs a specific task.** Functions make programs easier to read, understand, and maintain. Instead of writing the same code multiple times, you can put the code in a function and call it whenever you need it.\n",
        "\n",
        "### **What is a Function?**\n",
        "* A function is a way to group together a set of instructions that can be executed when called.\n",
        "* Functions allow you to break down large problems into smaller, manageable pieces.\n",
        "\n",
        "### **Why Use Functions?**\n",
        "* Reusability: Write a function once, and use it multiple times.\n",
        "*Organization: Keeps your code clean and easier to maintain.\n",
        "*Avoid Duplication: No need to write the same code in different places.\n",
        "*Modularity: Divide your program into smaller sections or blocks (functions)."
      ],
      "metadata": {
        "id": "U5j4Dob8cOC6"
      }
    },
    {
      "cell_type": "markdown",
      "source": [
        "## **Defining a Function**\n",
        "In Python, functions are defined using the def keyword, followed by the function name and parentheses ().\n"
      ],
      "metadata": {
        "id": "1wfRrZwYdPLW"
      }
    },
    {
      "cell_type": "code",
      "execution_count": 45,
      "metadata": {
        "id": "ilv3D-IecKI8"
      },
      "outputs": [],
      "source": [
        "def function_name():\n",
        "    # This block of code will run when the function is called\n",
        "    print(\"Hello, this is a simple function!\")\n",
        "\n",
        "# def: This keyword is used to define a function.\n",
        "# function_name: The name you give to the function.\n",
        "# Parentheses () can contain arguments (we’ll discuss them later).\n",
        "# Inside the function, we write code that will be executed when the function is called."
      ]
    },
    {
      "cell_type": "code",
      "source": [
        "# @title Defining Function with Function name Greet\n",
        "def greet():\n",
        "    print(\"Hello, welcome to Python functions!\")\n",
        "\n",
        "#In this example, the function greet() does one thing: it prints a welcome message. The function won’t run until you call it."
      ],
      "metadata": {
        "id": "Ga23a1-0dgz2"
      },
      "execution_count": 46,
      "outputs": []
    },
    {
      "cell_type": "code",
      "source": [
        "# @title Calling a Function\n",
        "\n",
        "# Once you've defined a function, you can \"call\" it to execute its code.\n",
        "# Example:\n",
        "\n",
        "def greet():\n",
        "    print(\"Hello, welcome to Python functions!\")\n",
        "\n",
        "# Calling the function\n",
        "greet()\n"
      ],
      "metadata": {
        "colab": {
          "base_uri": "https://localhost:8080/"
        },
        "id": "SbiII1ZyfUZ4",
        "outputId": "a97fe4ca-c368-49a6-901c-862714e0d5ba"
      },
      "execution_count": 47,
      "outputs": [
        {
          "output_type": "stream",
          "name": "stdout",
          "text": [
            "Hello, welcome to Python functions!\n"
          ]
        }
      ]
    },
    {
      "cell_type": "code",
      "source": [
        "# @title Function Parameters (Arguments)\n",
        "\n",
        "# Sometimes, you need to pass information to a function so that it can perform its task. You can provide values, called arguments, to a function through parameters.\n",
        "#Example:\n",
        "\n",
        "def greet(name):  # 'name' is a parameter\n",
        "    print(\"Hello, \" + name + \"!\")\n",
        "\n",
        "# Calling the function with an argument\n",
        "greet(\"Sunny\")\n"
      ],
      "metadata": {
        "colab": {
          "base_uri": "https://localhost:8080/"
        },
        "id": "ATBlhxG4fpR7",
        "outputId": "dceb0765-f977-4dc8-90a3-b9ef02b200d9"
      },
      "execution_count": 29,
      "outputs": [
        {
          "output_type": "stream",
          "name": "stdout",
          "text": [
            "Hello, Sunny!\n"
          ]
        }
      ]
    },
    {
      "cell_type": "code",
      "source": [
        "# @title Returning Values from a Function\n",
        "\n",
        "# A function can also return a value using the return statement. This is useful when you want the function to process data and give you a result back.\n",
        "\n",
        "#Example:\n",
        "def add_numbers(a, b): \t # Two parameters: 'a' and 'b'\n",
        "    return a + b  # Return the sum of 'a' and 'b'\n",
        "\n",
        "# Calling the function and storing the result\n",
        "result = add_numbers(5, 3)\n",
        "print(result)  # Output: 8\n",
        "\n",
        "# Here, the function add_numbers() takes two numbers as input, adds them, and returns the sum."
      ],
      "metadata": {
        "colab": {
          "base_uri": "https://localhost:8080/"
        },
        "id": "zX2mJnvQf_Y2",
        "outputId": "84171c2c-95d6-4547-a32a-3b5146c8b985"
      },
      "execution_count": 30,
      "outputs": [
        {
          "output_type": "stream",
          "name": "stdout",
          "text": [
            "8\n"
          ]
        }
      ]
    },
    {
      "cell_type": "code",
      "source": [
        "# @title Functions with Multiple Parameters\n",
        "\n",
        "# A function can have more than one parameter, allowing you to pass multiple pieces of information to it.\n",
        "\n",
        "#Example:\n",
        "\n",
        "def introduce(name, age):\n",
        "    print(f\"My name is {name} and I am {age} years old.\")\n",
        "\n",
        "# Calling the function with multiple arguments\n",
        "introduce(\"Sunny\", 30)\n",
        "\n",
        "#In this example, the function introduce() takes two parameters (name and age) and prints them.\n"
      ],
      "metadata": {
        "colab": {
          "base_uri": "https://localhost:8080/"
        },
        "id": "pcQwphEbgso3",
        "outputId": "4aa737b5-a7b4-40ee-db9b-2c20c547e470"
      },
      "execution_count": 31,
      "outputs": [
        {
          "output_type": "stream",
          "name": "stdout",
          "text": [
            "My name is Sunny and I am 30 years old.\n"
          ]
        }
      ]
    },
    {
      "cell_type": "code",
      "source": [
        "# @title Default Parameters\n",
        "\n",
        "#You can provide default values for function parameters. If the caller doesn't provide a value for a parameter, the default value will be used.\n",
        "\n",
        "#Example:\n",
        "\n",
        "def greet(name=\"Guest\"):  # Default parameter value\n",
        "    print(f\"Hello, {name}!\")\n",
        "\n",
        "# Calling without an argument\n",
        "\n",
        "greet()  # Output: Hello, Guest!\n",
        "\n",
        "# Calling with an argument\n",
        "greet(\"Sunny\")  # Output: Hello, Sunny!\n",
        "\n",
        "#In this case, if no argument is provided when calling the function, the default value \"Guest\" is used.\n"
      ],
      "metadata": {
        "colab": {
          "base_uri": "https://localhost:8080/"
        },
        "id": "52VFBoumhNxl",
        "outputId": "d28fbd40-5421-465e-a660-122c8523b082"
      },
      "execution_count": 32,
      "outputs": [
        {
          "output_type": "stream",
          "name": "stdout",
          "text": [
            "Hello, Guest!\n",
            "Hello, Sunny!\n"
          ]
        }
      ]
    },
    {
      "cell_type": "code",
      "source": [
        "# @title Keyword Arguments\n",
        "\n",
        "#When calling a function, you can specify which parameter gets which value using keyword arguments. This makes the function call clearer and avoids confusion, especially when dealing with many parameters.\n",
        "\n",
        "#Example:\n",
        "\n",
        "def introduce(name, age, city):\n",
        "    print(f\"My name is {name}, I am {age} years old, and I live in {city}.\")\n",
        "\n",
        "# Using keyword arguments to make the function call more readable\n",
        "introduce(name=\"Sunny\", age=30, city=\"Roorkee\")\n"
      ],
      "metadata": {
        "colab": {
          "base_uri": "https://localhost:8080/"
        },
        "id": "a8NpG4CQhpBQ",
        "outputId": "dc500337-6a6e-46e5-bccf-a66dfeb4e568"
      },
      "execution_count": 33,
      "outputs": [
        {
          "output_type": "stream",
          "name": "stdout",
          "text": [
            "My name is Sunny, I am 30 years old, and I live in Roorkee.\n"
          ]
        }
      ]
    }
  ]
}