{
  "nbformat": 4,
  "nbformat_minor": 0,
  "metadata": {
    "colab": {
      "provenance": [],
      "include_colab_link": true
    },
    "kernelspec": {
      "name": "python3",
      "display_name": "Python 3"
    },
    "language_info": {
      "name": "python"
    }
  },
  "cells": [
    {
      "cell_type": "markdown",
      "metadata": {
        "id": "view-in-github",
        "colab_type": "text"
      },
      "source": [
        "<a href=\"https://colab.research.google.com/github/sunilsinghuk/Python-Programming/blob/main/Python_Functions.ipynb\" target=\"_parent\"><img src=\"https://colab.research.google.com/assets/colab-badge.svg\" alt=\"Open In Colab\"/></a>"
      ]
    },
    {
      "cell_type": "markdown",
      "source": [
        "# **Understanding Functions**\n",
        "A function in Python is a **block of reusable code that performs a specific task.** Functions make programs easier to read, understand, and maintain. Instead of writing the same code multiple times, you can put the code in a function and call it whenever you need it.\n",
        "\n",
        "### **What is a Function?**\n",
        "* A function is a way to group together a set of instructions that can be executed when called.\n",
        "* Functions allow you to break down large problems into smaller, manageable pieces.\n",
        "\n",
        "### **Why Use Functions?**\n",
        "* Reusability: Write a function once, and use it multiple times.\n",
        "*Organization: Keeps your code clean and easier to maintain.\n",
        "*Avoid Duplication: No need to write the same code in different places.\n",
        "*Modularity: Divide your program into smaller sections or blocks (functions)."
      ],
      "metadata": {
        "id": "U5j4Dob8cOC6"
      }
    },
    {
      "cell_type": "markdown",
      "source": [
        "## **Defining a Function**\n",
        "In Python, functions are defined using the def keyword, followed by the function name and parentheses ().\n"
      ],
      "metadata": {
        "id": "1wfRrZwYdPLW"
      }
    },
    {
      "cell_type": "code",
      "execution_count": null,
      "metadata": {
        "id": "ilv3D-IecKI8"
      },
      "outputs": [],
      "source": [
        "def function_name(arguments):\n",
        "    # This block of code will run when the function is called\n",
        "    print(\"Hello, this is a simple function!\")\n",
        "\n",
        "# def: This keyword is used to define a function.\n",
        "# function_name: The name you give to the function.\n",
        "# Parentheses () can contain arguments (we’ll discuss them later).\n",
        "# Inside the function, we write code that will be executed when the function is called."
      ]
    },
    {
      "cell_type": "code",
      "source": [
        "# @title Defining Function with Function name Greet\n",
        "def greet():\n",
        "    print(\"Hello, welcome to Python functions!\")\n",
        "\n",
        "#In this example, the function greet() does one thing: it prints a welcome message. The function won’t run until you call it."
      ],
      "metadata": {
        "id": "Ga23a1-0dgz2"
      },
      "execution_count": null,
      "outputs": []
    },
    {
      "cell_type": "code",
      "source": [
        "# @title Calling a Function\n",
        "\n",
        "# Once you've defined a function, you can \"call\" it to execute its code.\n",
        "# Example:\n",
        "\n",
        "def greet():\n",
        "    print(\"Hello, welcome to Python functions!\")\n",
        "\n",
        "# Calling the function\n",
        "greet()\n"
      ],
      "metadata": {
        "colab": {
          "base_uri": "https://localhost:8080/"
        },
        "id": "SbiII1ZyfUZ4",
        "outputId": "30b2366c-bd1c-4d14-bc6f-df793507e803"
      },
      "execution_count": null,
      "outputs": [
        {
          "output_type": "stream",
          "name": "stdout",
          "text": [
            "Hello, welcome to Python functions!\n"
          ]
        }
      ]
    },
    {
      "cell_type": "code",
      "source": [
        "# @title Function Parameters (Arguments)\n",
        "\n",
        "# Sometimes, you need to pass information to a function so that it can perform its task. You can provide values, called arguments, to a function through parameters.\n",
        "#Example:\n",
        "\n",
        "def greet(name):  # 'name' is a parameter\n",
        "    print(\"Hello, \" + name + \"!\")\n",
        "\n",
        "# Calling the function with an argument\n",
        "greet(\"Sunny\")\n"
      ],
      "metadata": {
        "colab": {
          "base_uri": "https://localhost:8080/"
        },
        "id": "ATBlhxG4fpR7",
        "outputId": "a87b35bf-3427-4723-ea88-a55ae2f6f898"
      },
      "execution_count": null,
      "outputs": [
        {
          "output_type": "stream",
          "name": "stdout",
          "text": [
            "Hello, Sunny!\n"
          ]
        }
      ]
    },
    {
      "cell_type": "code",
      "source": [
        "# @title Returning Values from a Function\n",
        "\n",
        "# A function can also return a value using the return statement. This is useful when you want the function to process data and give you a result back.\n",
        "\n",
        "#Example:\n",
        "def add_numbers(a, b): \t # Two parameters: 'a' and 'b'\n",
        "    return a + b  # Return the sum of 'a' and 'b'\n",
        "\n",
        "# Calling the function and storing the result\n",
        "result = add_numbers(5, 3)\n",
        "print(result)  # Output: 8\n",
        "\n",
        "# Here, the function add_numbers() takes two numbers as input, adds them, and returns the sum."
      ],
      "metadata": {
        "colab": {
          "base_uri": "https://localhost:8080/"
        },
        "id": "zX2mJnvQf_Y2",
        "outputId": "b3e1573f-3ba9-42f1-928f-cea5898fd27d"
      },
      "execution_count": null,
      "outputs": [
        {
          "output_type": "stream",
          "name": "stdout",
          "text": [
            "8\n"
          ]
        }
      ]
    },
    {
      "cell_type": "code",
      "source": [
        "# @title Functions with Multiple Parameters\n",
        "\n",
        "# A function can have more than one parameter, allowing you to pass multiple pieces of information to it.\n",
        "\n",
        "#Example:\n",
        "\n",
        "def introduce(name, age):\n",
        "    print(f\"My name is {name} and I am {age} years old.\")\n",
        "\n",
        "# Calling the function with multiple arguments\n",
        "introduce(\"Sunny\", 30)\n",
        "\n",
        "#In this example, the function introduce() takes two parameters (name and age) and prints them.\n"
      ],
      "metadata": {
        "colab": {
          "base_uri": "https://localhost:8080/"
        },
        "id": "pcQwphEbgso3",
        "outputId": "1cd53986-4cea-4c07-e744-40781352b334"
      },
      "execution_count": null,
      "outputs": [
        {
          "output_type": "stream",
          "name": "stdout",
          "text": [
            "My name is Sunny and I am 30 years old.\n"
          ]
        }
      ]
    },
    {
      "cell_type": "code",
      "source": [
        "# @title Default Parameters\n",
        "\n",
        "#You can provide default values for function parameters. If the caller doesn't provide a value for a parameter, the default value will be used.\n",
        "\n",
        "#Example:\n",
        "def greet(name=\"Guest\"):  # Default parameter value\n",
        "    print(f\"Hello, {name}!\")\n",
        "\n",
        "# Calling without an argument\n",
        "\n",
        "greet()  # Output: Hello, Guest!\n",
        "\n",
        "# Calling with an argument\n",
        "greet(\"Sunny\")  # Output: Hello, Sunny!\n",
        "\n",
        "\n",
        "#In this case, if no argument is provided when calling the function, the default value \"Guest\" is used.\n"
      ],
      "metadata": {
        "colab": {
          "base_uri": "https://localhost:8080/"
        },
        "id": "52VFBoumhNxl",
        "outputId": "0e30e411-c41d-4bdf-8c4f-db3f0ae2d524"
      },
      "execution_count": null,
      "outputs": [
        {
          "output_type": "stream",
          "name": "stdout",
          "text": [
            "Hello, Guest!\n",
            "Hello, Sunny!\n"
          ]
        }
      ]
    },
    {
      "cell_type": "code",
      "source": [
        "# @title Keyword Arguments\n",
        "\n",
        "#When calling a function, you can specify which parameter gets which value using keyword arguments. This makes the function call clearer and avoids confusion, especially when dealing with many parameters.\n",
        "\n",
        "#Example:\n",
        "\n",
        "def introduce(name, age, city):\n",
        "    print(f\"My name is {name}, I am {age} years old, and I live in {city}.\")\n",
        "\n",
        "# Using keyword arguments to make the function call more readable\n",
        "introduce(name=\"Sunny\", age=30, city=\"Roorkee\")\n"
      ],
      "metadata": {
        "colab": {
          "base_uri": "https://localhost:8080/"
        },
        "id": "a8NpG4CQhpBQ",
        "outputId": "55309ef6-c7e5-4c42-83a6-f052aa3b1d38"
      },
      "execution_count": null,
      "outputs": [
        {
          "output_type": "stream",
          "name": "stdout",
          "text": [
            "My name is Sunny, I am 30 years old, and I live in Roorkee.\n"
          ]
        }
      ]
    },
    {
      "cell_type": "code",
      "source": [
        "# @title None and Functions Without a return Statement\n",
        "\n",
        "#If a function doesn’t have a return statement, it will return a special value called None.\n",
        "\n",
        "#Example:\n",
        "\n",
        "def no_return():\n",
        "    print(\"This function doesn't return anything\")\n",
        "\n",
        "result = no_return()\n",
        "\n",
        "print(result)  # Output: None\n"
      ],
      "metadata": {
        "colab": {
          "base_uri": "https://localhost:8080/"
        },
        "id": "NeqMou7OnUSc",
        "outputId": "4bd37c72-737d-4dc9-de2a-a53bf4b8dcab"
      },
      "execution_count": null,
      "outputs": [
        {
          "output_type": "stream",
          "name": "stdout",
          "text": [
            "This function doesn't return anything\n",
            "None\n"
          ]
        }
      ]
    },
    {
      "cell_type": "code",
      "source": [
        "# @title Functions with Conditional Statements\n",
        "\n",
        "#You can combine functions with if-else statements to make decisions inside the function.\n",
        "\n",
        "#Example:\n",
        "\n",
        "def check_even_odd(number):\n",
        "    if number % 2 == 0:\n",
        "        print(f\"{number} is even\")\n",
        "    else:\n",
        "        print(f\"{number} is odd\")\n",
        "\n",
        "# Calling the function\n",
        "check_even_odd(7)\n"
      ],
      "metadata": {
        "colab": {
          "base_uri": "https://localhost:8080/"
        },
        "id": "7BgHokojn8l6",
        "outputId": "1f9d4604-236b-4c0a-a589-e286795a6d62"
      },
      "execution_count": null,
      "outputs": [
        {
          "output_type": "stream",
          "name": "stdout",
          "text": [
            "7 is odd\n"
          ]
        }
      ]
    },
    {
      "cell_type": "markdown",
      "source": [
        "### **Summary**\n",
        "\n",
        "1. Defining a Function: Use def followed by a function name and parentheses.\n",
        "2. Calling a Function: Use the function name followed by parentheses.\n",
        "3. Parameters: Functions can take inputs (parameters) to process data.\n",
        "4. Return Values: Functions can return values using the return statement.\n",
        "5. Default Parameters: You can provide default values for function parameters.\n",
        "6. Keyword Arguments: Specify parameter names when calling a function for clarity.\n",
        "\n"
      ],
      "metadata": {
        "id": "BSNQPJ-HoOdH"
      }
    }
  ]
}